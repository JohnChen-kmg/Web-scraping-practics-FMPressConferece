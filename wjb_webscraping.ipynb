{
 "cells": [
  {
   "cell_type": "code",
   "execution_count": null,
   "id": "2225b436",
   "metadata": {},
   "outputs": [],
   "source": [
    "from urllib.request import urlopen\n",
    "from bs4 import BeautifulSoup\n",
    "import numpy as np\n",
    "import requests,re"
   ]
  },
  {
   "cell_type": "code",
   "execution_count": null,
   "id": "735fb2d4",
   "metadata": {},
   "outputs": [],
   "source": [
    "# Main url \n",
    "url = 'https://www.mfa.gov.cn/web/wjdt_674879/fyrbt_674889/index.shtml'"
   ]
  },
  {
   "cell_type": "code",
   "execution_count": null,
   "id": "5fcf77e6",
   "metadata": {},
   "outputs": [],
   "source": [
    "# Compute url for every branch, by index 1:28\n",
    "url_0  =['https://www.mfa.gov.cn/web/wjdt_674879/fyrbt_674889/index.shtml']\n",
    "import numpy as np\n",
    "\n",
    "url=url.rstrip(\".shtml\")\n",
    "url_1 = np.repeat(url,28)\n",
    "\n",
    "n=1\n",
    "for string in url_1:\n",
    "    string = string +  \"_\" + str(n) + \".shtml\"\n",
    "    n=n+1\n",
    "    url_0.append(string)\n",
    "    \n",
    "url_0"
   ]
  },
  {
   "cell_type": "code",
   "execution_count": null,
   "id": "d430acad",
   "metadata": {},
   "outputs": [],
   "source": [
    "# Compute url for every meeting\n",
    "url_all=[]\n",
    "\n",
    "for string in url_0:\n",
    "    u0 = string\n",
    "    reqs = requests.get(u0)\n",
    "    soup = BeautifulSoup(reqs.text, 'html.parser')\n",
    "    urls = []\n",
    "    for link in soup.find_all('a'):\n",
    "        href = link.get('href')\n",
    "        urls.append(href)\n",
    "        \n",
    "    component1 = \"./20\"\n",
    "    string1 = []\n",
    "    for string in urls:\n",
    "     if component1 in string:\n",
    "       string1.append(string)\n",
    "    \n",
    "    url = 'https://www.mfa.gov.cn/web/wjdt_674879/fyrbt_674889/index.shtml'\n",
    "    url = url.rstrip(\"index.shtml\")\n",
    "    for string in string1:\n",
    "     url0 = url+ string\n",
    "     url_all.append(url0)\n",
    "    \n",
    "\n",
    "print(url_all)"
   ]
  },
  {
   "cell_type": "code",
   "execution_count": null,
   "id": "9dd1a4ff",
   "metadata": {},
   "outputs": [],
   "source": [
    "# Web srape for every meeting\n",
    "with open(\"prime.txt\", \"a\") as file_prime:    \n",
    "    for string1 in url_all:\n",
    "            u1 = string1  # Replace with the URL of the web page you want to scrape\n",
    "            html = requests.get(u1)\n",
    "            try: \n",
    "                soup = BeautifulSoup(html.text.encode(html.encoding), 'lxml', from_encoding='utf-8')\n",
    "            except TypeError:\n",
    "             pass \n",
    "            \n",
    "            div_element= soup.find(True, {'class':['trs_editor_view TRS_UEDITOR trs_paper_default trs_word', \n",
    "                                                  'trs_editor_view TRS_UEDITOR trs_paper_default trs_web',\n",
    "                                                  'trs_editor_view TRS_UEDITOR trs_paper_default trs_word trs_web',\n",
    "                                                  'trs_editor_view TRS_UEDITOR trs_paper_default',\n",
    "                                                  'trs_editor_view TRS_UEDITOR trs_paper_default trs_web trs_word',\n",
    "                                                  'content']})\n",
    "            \n",
    "            div_text = div_element.get_text(strip=True)\n",
    "            file_prime.write(div_text+ '\\n')"
   ]
  },
  {
   "cell_type": "code",
   "execution_count": null,
   "id": "6ee76c2a",
   "metadata": {},
   "outputs": [],
   "source": [
    "len(url_all)"
   ]
  }
 ],
 "metadata": {
  "kernelspec": {
   "display_name": "Python 3 (ipykernel)",
   "language": "python",
   "name": "python3"
  },
  "language_info": {
   "codemirror_mode": {
    "name": "ipython",
    "version": 3
   },
   "file_extension": ".py",
   "mimetype": "text/x-python",
   "name": "python",
   "nbconvert_exporter": "python",
   "pygments_lexer": "ipython3",
   "version": "3.9.7"
  }
 },
 "nbformat": 4,
 "nbformat_minor": 5
}
